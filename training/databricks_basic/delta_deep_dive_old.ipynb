{
 "cells": [
  {
   "cell_type": "markdown",
   "metadata": {
    "application/vnd.databricks.v1+cell": {
     "cellMetadata": {
      "byteLimit": 2048000,
      "rowLimit": 10000
     },
     "inputWidgets": {},
     "nuid": "bcc53a0e-5123-44ef-b16e-b4f8219c8170",
     "showTitle": false,
     "tableResultSettingsMap": {},
     "title": ""
    },
    "nteract": {
     "transient": {
      "deleting": false
     }
    }
   },
   "source": [
    "# Delta Deep Dive"
   ]
  },
  {
   "cell_type": "markdown",
   "metadata": {
    "application/vnd.databricks.v1+cell": {
     "cellMetadata": {
      "byteLimit": 2048000,
      "rowLimit": 10000
     },
     "inputWidgets": {},
     "nuid": "e277f9ec-6ebe-4c01-92a2-a4f8cf724273",
     "showTitle": false,
     "tableResultSettingsMap": {},
     "title": ""
    },
    "nteract": {
     "transient": {
      "deleting": false
     }
    }
   },
   "source": [
    "## Preparation"
   ]
  },
  {
   "cell_type": "code",
   "execution_count": 0,
   "metadata": {
    "application/vnd.databricks.v1+cell": {
     "cellMetadata": {
      "byteLimit": 2048000,
      "rowLimit": 10000
     },
     "inputWidgets": {},
     "nuid": "ffbb7853-9922-4063-a38e-7f6c5ce5fb7d",
     "showTitle": true,
     "tableResultSettingsMap": {},
     "title": "get user_name"
    }
   },
   "outputs": [],
   "source": [
    "# Get user_name\n",
    "from pyspark.sql.types import *\n",
    "from pyspark.sql.functions import *\n",
    "from datetime import datetime, date\n",
    "import random\n",
    "import re\n",
    "\n",
    "def get_user_name():\n",
    "    user_id = spark.sql('select current_user() as user').collect()[0]['user']\n",
    "    match = re.match(r'^([^@]+)@', user_id)\n",
    "    if match:\n",
    "        username = match.group(1)\n",
    "        username = re.sub(r'[._]', '_', username)\n",
    "        return username\n",
    "    else:\n",
    "        return None\n",
    "    \n",
    "\n",
    "user_name = get_user_name()\n",
    "\n",
    "\n",
    "print(f\"Your Username: {user_name}\")"
   ]
  },
  {
   "cell_type": "code",
   "execution_count": 0,
   "metadata": {
    "application/vnd.databricks.v1+cell": {
     "cellMetadata": {
      "byteLimit": 2048000,
      "rowLimit": 10000
     },
     "inputWidgets": {},
     "nuid": "503b1b78-a21a-4002-9d13-cf541e2d1414",
     "showTitle": true,
     "tableResultSettingsMap": {},
     "title": "set variables"
    }
   },
   "outputs": [],
   "source": [
    "# Set variables\n",
    "schema = f\"training.dev_{user_name}_raw\" # --> may a widget?\n",
    "sample_table = f\"{schema}.banking\"\n",
    "\n",
    "print(f\"Table: {sample_table}\")"
   ]
  },
  {
   "cell_type": "markdown",
   "metadata": {
    "application/vnd.databricks.v1+cell": {
     "cellMetadata": {
      "byteLimit": 2048000,
      "rowLimit": 10000
     },
     "inputWidgets": {},
     "nuid": "028ecb07-c4ab-4e0d-ae78-f76a8e3b1c63",
     "showTitle": false,
     "tableResultSettingsMap": {},
     "title": ""
    },
    "nteract": {
     "transient": {
      "deleting": false
     }
    }
   },
   "source": [
    "## Create sample data"
   ]
  },
  {
   "cell_type": "code",
   "execution_count": 0,
   "metadata": {
    "application/vnd.databricks.v1+cell": {
     "cellMetadata": {
      "byteLimit": 2048000,
      "rowLimit": 10000
     },
     "inputWidgets": {},
     "nuid": "11fd81fc-2859-4e09-a5b5-0b2c19c415f7",
     "showTitle": true,
     "tableResultSettingsMap": {},
     "title": "create dataframe with sample data"
    },
    "collapsed": false
   },
   "outputs": [],
   "source": [
    "# Create dataframe with sample data\n",
    "from pyspark.sql.types import StructType, StructField, StringType, TimestampType, DateType, DoubleType# Define schema for the flattened banking data\n",
    "\n",
    "schema = StructType([\n",
    "    StructField(\"msg_id\", StringType(), True),\n",
    "    StructField(\"msg_created\", TimestampType(), True),\n",
    "    StructField(\"notification_id\", StringType(), True),\n",
    "    StructField(\"notification_created\", TimestampType(), True),\n",
    "    StructField(\"account_iban\", StringType(), True),\n",
    "    StructField(\"account_owner\", StringType(), True),\n",
    "    StructField(\"account_currency\", StringType(), True),\n",
    "    StructField(\"bank_bic\", StringType(), True),\n",
    "    StructField(\"bank_name\", StringType(), True),\n",
    "    StructField(\"entry_amount\", DoubleType(), True),\n",
    "    StructField(\"entry_currency\", StringType(), True),\n",
    "    StructField(\"credit_debit_indicator\", StringType(), True),\n",
    "    StructField(\"booking_date\", DateType(), True),\n",
    "    StructField(\"value_date\", DateType(), True),\n",
    "    StructField(\"tx_amount\", DoubleType(), True),\n",
    "    StructField(\"tx_currency\", StringType(), True),\n",
    "    StructField(\"creditor_name\", StringType(), True),\n",
    "    StructField(\"debtor_name\", StringType(), True),\n",
    "    StructField(\"creditor_iban\", StringType(), True),\n",
    "    StructField(\"debtor_iban\", StringType(), True),\n",
    "    StructField(\"remittance_info\", StringType(), True),\n",
    "    StructField(\"end_to_end_id\", StringType(), True)\n",
    "])\n",
    "\n",
    "# Create sample data\n",
    "sample_data = [\n",
    "    # Transaction 1 - Credit\n",
    "    (\"MSG001\", datetime(2024, 9, 22, 10, 15, 0), \"NOTIF001\", datetime(2024, 9, 22, 10, 16, 0),\n",
    "     \"CH93 0000 0000 0000 0001\", \"Altyca AG\", \"CHF\", \"UBSWCHZH80A\", \"UBS Switzerland AG\",\n",
    "     1500.0, \"CHF\", \"CRDT\", date(2024, 9, 22), date(2024, 9, 22),\n",
    "     1500.0, \"CHF\", \"Altyca AG\", \"Client Company Ltd\", \"CH93 0000 0000 0000 0001\", \"DE89 3704 0044 0532 0130 00\",\n",
    "     \"Invoice payment INV-2024-001\", \"E2E-001-2024-09-22\"),\n",
    "    \n",
    "    # Transaction 2 - Debit\n",
    "    (\"MSG002\", datetime(2024, 9, 21, 14, 30, 0), \"NOTIF002\", datetime(2024, 9, 21, 14, 31, 0),\n",
    "     \"CH93 0000 0000 0000 0001\", \"Altyca AG\", \"CHF\", \"UBSWCHZH80A\", \"UBS Switzerland AG\",\n",
    "     -750.0, \"CHF\", \"DBIT\", date(2024, 9, 21), date(2024, 9, 21),\n",
    "     -750.0, \"CHF\", \"Office Supplies Inc\", \"Altyca AG\", \"CH44 0900 0000 8754 2832\", \"CH93 0000 0000 0000 0001\",\n",
    "     \"Office equipment purchase\", \"E2E-002-2024-09-21\"),\n",
    "    \n",
    "    # Transaction 3 - Credit\n",
    "    (\"MSG003\", datetime(2024, 9, 20, 9, 45, 0), \"NOTIF003\", datetime(2024, 9, 20, 9, 46, 0),\n",
    "     \"CH93 0000 0000 0000 0001\", \"Altyca AG\", \"CHF\", \"UBSWCHZH80A\", \"UBS Switzerland AG\",\n",
    "     2250.0, \"CHF\", \"CRDT\", date(2024, 9, 20), date(2024, 9, 20),\n",
    "     2250.0, \"CHF\", \"Altyca AG\", \"Tech Solutions GmbH\", \"CH93 0000 0000 0000 0001\", \"DE44 5001 0517 5407 3249 31\",\n",
    "     \"Consulting services Q3 2024\", \"E2E-003-2024-09-20\"),\n",
    "    \n",
    "    # Transaction 4 - Debit (Different account)\n",
    "    (\"MSG004\", datetime(2024, 9, 19, 16, 20, 0), \"NOTIF004\", datetime(2024, 9, 19, 16, 21, 0),\n",
    "     \"CH44 0900 0000 8754 2832\", \"Stefan Koch\", \"CHF\", \"ZKBKCHZZ80A\", \"Zürcher Kantonalbank\",\n",
    "     -320.50, \"CHF\", \"DBIT\", date(2024, 9, 19), date(2024, 9, 19),\n",
    "     -320.50, \"CHF\", \"Migros\", \"Stefan Koch\", \"CH18 0900 0000 3001 2345 6\", \"CH44 0900 0000 8754 2832\",\n",
    "     \"Grocery shopping\", \"E2E-004-2024-09-19\"),\n",
    "    \n",
    "    # Transaction 5 - Credit\n",
    "    (\"MSG005\", datetime(2024, 9, 18, 11, 10, 0), \"NOTIF005\", datetime(2024, 9, 18, 11, 11, 0),\n",
    "     \"CH44 0900 0000 8754 2832\", \"Stefan Koch\", \"CHF\", \"ZKBKCHZZ80A\", \"Zürcher Kantonalbank\",\n",
    "     5000.0, \"CHF\", \"CRDT\", date(2024, 9, 18), date(2024, 9, 18),\n",
    "     5000.0, \"CHF\", \"Stefan Koch\", \"Altyca AG\", \"CH44 0900 0000 8754 2832\", \"CH93 0000 0000 0000 0001\",\n",
    "     \"Salary September 2024\", \"E2E-005-2024-09-18\"),\n",
    "    \n",
    "    # Transaction 6 - International transfer\n",
    "    (\"MSG006\", datetime(2024, 9, 17, 13, 45, 0), \"NOTIF006\", datetime(2024, 9, 17, 13, 46, 0),\n",
    "     \"CH93 0000 0000 0000 0001\", \"Altyca AG\", \"EUR\", \"UBSWCHZH80A\", \"UBS Switzerland AG\",\n",
    "     1200.0, \"EUR\", \"CRDT\", date(2024, 9, 17), date(2024, 9, 17),\n",
    "     1200.0, \"EUR\", \"Altyca AG\", \"European Client SA\", \"CH93 0000 0000 0000 0001\", \"FR14 2004 1010 0505 0001 3M02 606\",\n",
    "     \"Project delivery milestone 2\", \"E2E-006-2024-09-17\"),\n",
    "    \n",
    "    # Transaction 7 - Debit with fees\n",
    "    (\"MSG007\", datetime(2024, 9, 16, 15, 30, 0), \"NOTIF007\", datetime(2024, 9, 16, 15, 31, 0),\n",
    "     \"CH93 0000 0000 0000 0001\", \"Altyca AG\", \"CHF\", \"UBSWCHZH80A\", \"UBS Switzerland AG\",\n",
    "     -25.0, \"CHF\", \"DBIT\", date(2024, 9, 16), date(2024, 9, 16),\n",
    "     -25.0, \"CHF\", \"UBS Switzerland AG\", \"Altyca AG\", \"CH80 0024 0240 5917 4470 1\", \"CH93 0000 0000 0000 0001\",\n",
    "     \"International transfer fee\", \"E2E-007-2024-09-16\"),\n",
    "    \n",
    "    # Transaction 8 - Another credit\n",
    "    (\"MSG008\", datetime(2024, 9, 15, 8, 20, 0), \"NOTIF008\", datetime(2024, 9, 15, 8, 21, 0),\n",
    "     \"CH44 0900 0000 8754 2832\", \"Stefan Koch\", \"CHF\", \"ZKBKCHZZ80A\", \"Zürcher Kantonalbank\",\n",
    "     450.0, \"CHF\", \"CRDT\", date(2024, 9, 15), date(2024, 9, 15),\n",
    "     450.0, \"CHF\", \"Stefan Koch\", \"Theater Escholzmatt\", \"CH44 0900 0000 8754 2832\", \"CH21 0900 0000 1234 5678 9\",\n",
    "     \"Freelance web development\", \"E2E-008-2024-09-15\"),\n",
    "]\n",
    "\n",
    "# Create DataFrame\n",
    "sample_df = spark.createDataFrame(sample_data, schema)\n",
    "display(sample_df)"
   ]
  },
  {
   "cell_type": "code",
   "execution_count": 0,
   "metadata": {
    "application/vnd.databricks.v1+cell": {
     "cellMetadata": {
      "byteLimit": 2048000,
      "rowLimit": 10000
     },
     "inputWidgets": {},
     "nuid": "a326ee94-0863-4a62-a199-8911c171441b",
     "showTitle": true,
     "tableResultSettingsMap": {},
     "title": "write dataframe to table"
    }
   },
   "outputs": [],
   "source": [
    "# Write dataframe to table\n",
    "spark.sql(f\"DROP TABLE IF EXISTS {sample_table}\").display()\n",
    "\n",
    "sample_df.write.mode(\"overwrite\").saveAsTable(sample_table)\n",
    "\n",
    "print(f\"Table {sample_table} created successfully!\")"
   ]
  },
  {
   "cell_type": "code",
   "execution_count": 0,
   "metadata": {
    "application/vnd.databricks.v1+cell": {
     "cellMetadata": {
      "byteLimit": 2048000,
      "rowLimit": 10000
     },
     "inputWidgets": {},
     "nuid": "b39770d2-553a-44a9-a2ff-695c133e42b5",
     "showTitle": false,
     "tableResultSettingsMap": {},
     "title": ""
    }
   },
   "outputs": [],
   "source": [
    "# Read Table\n",
    "spark.sql(f\"SELECT * FROM {sample_table}\").display()"
   ]
  },
  {
   "cell_type": "markdown",
   "metadata": {
    "application/vnd.databricks.v1+cell": {
     "cellMetadata": {
      "byteLimit": 2048000,
      "rowLimit": 10000
     },
     "inputWidgets": {},
     "nuid": "9c508f7a-5aa2-4149-8d88-a7f6fb79d6d4",
     "showTitle": false,
     "tableResultSettingsMap": {},
     "title": ""
    }
   },
   "source": [
    "## Get infos about the table"
   ]
  },
  {
   "cell_type": "code",
   "execution_count": 0,
   "metadata": {
    "application/vnd.databricks.v1+cell": {
     "cellMetadata": {
      "byteLimit": 2048000,
      "rowLimit": 10000
     },
     "inputWidgets": {},
     "nuid": "8a633aac-793c-4167-8fe7-4c3c6482c1bd",
     "showTitle": false,
     "tableResultSettingsMap": {},
     "title": ""
    }
   },
   "outputs": [],
   "source": [
    "# Describe Detail\n",
    "sql = f\"DESCRIBE DETAIL {sample_table}\"\n",
    "\n",
    "print(f\"SQL Statement to get details about a table: \\n{sql}\")\n",
    "spark.sql(sql).display()"
   ]
  },
  {
   "cell_type": "markdown",
   "metadata": {
    "application/vnd.databricks.v1+cell": {
     "cellMetadata": {
      "byteLimit": 2048000,
      "rowLimit": 10000
     },
     "inputWidgets": {},
     "nuid": "83329887-0969-4436-a31d-b276ecad592a",
     "showTitle": false,
     "tableResultSettingsMap": {},
     "title": ""
    },
    "nteract": {
     "transient": {
      "deleting": false
     }
    }
   },
   "source": [
    "## Query the table with sql (with widgets and sql)"
   ]
  },
  {
   "cell_type": "code",
   "execution_count": 0,
   "metadata": {
    "application/vnd.databricks.v1+cell": {
     "cellMetadata": {
      "byteLimit": 2048000,
      "rowLimit": 10000
     },
     "inputWidgets": {},
     "nuid": "c3bdd839-cd88-4c55-831b-65ce6b4f5d39",
     "showTitle": false,
     "tableResultSettingsMap": {},
     "title": ""
    }
   },
   "outputs": [],
   "source": [
    "dbutils.widgets.text(\"table_name\", \"training.dev_giuseppe_dicrisci_raw.banking\")"
   ]
  },
  {
   "cell_type": "code",
   "execution_count": 0,
   "metadata": {
    "application/vnd.databricks.v1+cell": {
     "cellMetadata": {
      "byteLimit": 2048000,
      "implicitDf": true,
      "rowLimit": 10000
     },
     "inputWidgets": {},
     "nuid": "e92a7c46-cb53-4ae7-ba00-de0193a388de",
     "showTitle": false,
     "tableResultSettingsMap": {},
     "title": ""
    }
   },
   "outputs": [],
   "source": [
    "%sql\n",
    "SELECT * FROM ${table_name}"
   ]
  },
  {
   "cell_type": "code",
   "execution_count": 0,
   "metadata": {
    "application/vnd.databricks.v1+cell": {
     "cellMetadata": {
      "byteLimit": 2048000,
      "implicitDf": true,
      "rowLimit": 10000
     },
     "inputWidgets": {},
     "nuid": "7fa27c33-08bd-4ac9-860a-58d365bc3475",
     "showTitle": false,
     "tableResultSettingsMap": {},
     "title": ""
    }
   },
   "outputs": [],
   "source": [
    "%sql\n",
    "SELECT \n",
    "    account_iban,\n",
    "    account_owner,\n",
    "    tx_amount,\n",
    "    remittance_info,\n",
    "    booking_date,\n",
    "    end_to_end_id\n",
    "FROM ${table_name}\n",
    "WHERE \n",
    "    end_to_end_id = 'E2E-003-2024-09-20'\n",
    "    AND account_iban = 'CH93 0000 0000 0000 0001';"
   ]
  },
  {
   "cell_type": "markdown",
   "metadata": {
    "application/vnd.databricks.v1+cell": {
     "cellMetadata": {
      "byteLimit": 2048000,
      "rowLimit": 10000
     },
     "inputWidgets": {},
     "nuid": "664712e9-f75a-4ea1-8976-3e31943b11de",
     "showTitle": false,
     "tableResultSettingsMap": {},
     "title": ""
    },
    "nteract": {
     "transient": {
      "deleting": false
     }
    }
   },
   "source": [
    "## Update the table"
   ]
  },
  {
   "cell_type": "code",
   "execution_count": 0,
   "metadata": {
    "application/vnd.databricks.v1+cell": {
     "cellMetadata": {
      "byteLimit": 2048000,
      "rowLimit": 10000
     },
     "inputWidgets": {},
     "nuid": "4c153228-e87c-4652-a049-5a9e3bc3a9b5",
     "showTitle": false,
     "tableResultSettingsMap": {},
     "title": ""
    }
   },
   "outputs": [],
   "source": [
    "display(sample_table)"
   ]
  },
  {
   "cell_type": "code",
   "execution_count": 0,
   "metadata": {
    "application/vnd.databricks.v1+cell": {
     "cellMetadata": {
      "byteLimit": 2048000,
      "implicitDf": true,
      "rowLimit": 10000
     },
     "inputWidgets": {},
     "nuid": "19569cff-29a0-4db3-b787-315f393eb75e",
     "showTitle": false,
     "tableResultSettingsMap": {},
     "title": ""
    }
   },
   "outputs": [],
   "source": [
    "spark.sql(f\"\"\"\n",
    "UPDATE {sample_table}\n",
    "SET\n",
    "  tx_amount = 2000.0,\n",
    "  entry_amount = 2000.0,\n",
    "  remittance_info = 'Updated: Consulting services Q3 2024 – Final payment'\n",
    "WHERE\n",
    "  end_to_end_id = 'E2E-003-2024-09-20'\n",
    "  AND account_iban = 'CH93 0000 0000 0000 0001'\n",
    "\"\"\")"
   ]
  },
  {
   "cell_type": "code",
   "execution_count": 0,
   "metadata": {
    "application/vnd.databricks.v1+cell": {
     "cellMetadata": {
      "byteLimit": 2048000,
      "rowLimit": 10000
     },
     "inputWidgets": {},
     "nuid": "a9d8c983-169e-41ea-b829-8415043b4ea9",
     "showTitle": false,
     "tableResultSettingsMap": {},
     "title": ""
    }
   },
   "outputs": [],
   "source": [
    "from pyspark.sql.functions import when, col, lit\n",
    "\n",
    "\n",
    "# 1) Read the table from the parameter\n",
    "df = spark.table(sample_table)\n",
    "\n",
    "# 2) Update selected row(s)\n",
    "row_filter = (\n",
    "    (col(\"end_to_end_id\") == lit(\"E2E-003-2024-09-20\")) &\n",
    "    (col(\"account_iban\") == lit(\"CH93 0000 0000 0000 0001\"))\n",
    ")\n",
    "\n",
    "updated_df = (\n",
    "    df\n",
    "    .withColumn(\"tx_amount\",       when(row_filter, lit(2000.0)).otherwise(col(\"tx_amount\")))\n",
    "    .withColumn(\"entry_amount\",    when(row_filter, lit(2000.0)).otherwise(col(\"entry_amount\")))\n",
    "    .withColumn(\"remittance_info\", when(row_filter, lit(\"Updated: Consulting services Q3 2024 – Final payment\")).otherwise(col(\"remittance_info\")))\n",
    ")\n",
    "\n",
    "# 3) Overwrite table with updated data (rewrites the whole table)\n",
    "(updated_df.write\n",
    "    .mode(\"overwrite\")\n",
    "    .option(\"overwriteSchema\", \"true\")\n",
    "    .saveAsTable(sample_table))\n",
    "\n",
    "print(\"✅ Table overwritten with updated data.\")\n"
   ]
  },
  {
   "cell_type": "code",
   "execution_count": 0,
   "metadata": {
    "application/vnd.databricks.v1+cell": {
     "cellMetadata": {
      "byteLimit": 2048000,
      "rowLimit": 10000
     },
     "inputWidgets": {},
     "nuid": "eab776fc-0bca-412e-915b-ffbfd35cddf1",
     "showTitle": false,
     "tableResultSettingsMap": {},
     "title": ""
    },
    "collapsed": false,
    "microsoft": {
     "language": "sparksql"
    }
   },
   "outputs": [],
   "source": [
    "query = f\"\"\"\n",
    "SELECT \n",
    "    account_iban,\n",
    "    account_owner,\n",
    "    tx_amount,\n",
    "    remittance_info,\n",
    "    booking_date,\n",
    "    end_to_end_id\n",
    "FROM {sample_table}\n",
    "WHERE \n",
    "    end_to_end_id = 'E2E-003-2024-09-20'\n",
    "    AND account_iban = 'CH93 0000 0000 0000 0001'\n",
    "\"\"\"\n",
    "\n",
    "df = spark.sql(query)\n",
    "display(df)"
   ]
  },
  {
   "cell_type": "markdown",
   "metadata": {
    "application/vnd.databricks.v1+cell": {
     "cellMetadata": {
      "byteLimit": 2048000,
      "rowLimit": 10000
     },
     "inputWidgets": {},
     "nuid": "fec56009-4161-49f6-a717-31d617c6fd3e",
     "showTitle": false,
     "tableResultSettingsMap": {},
     "title": ""
    },
    "nteract": {
     "transient": {
      "deleting": false
     }
    }
   },
   "source": [
    "## Use Delta instead of parquet"
   ]
  },
  {
   "cell_type": "markdown",
   "metadata": {
    "application/vnd.databricks.v1+cell": {
     "cellMetadata": {
      "byteLimit": 2048000,
      "rowLimit": 10000
     },
     "inputWidgets": {},
     "nuid": "e4626db8-016f-48db-a6b9-4354739455f1",
     "showTitle": false,
     "tableResultSettingsMap": {},
     "title": ""
    },
    "nteract": {
     "transient": {
      "deleting": false
     }
    }
   },
   "source": [
    "### Convert the parquet table to delta"
   ]
  },
  {
   "cell_type": "code",
   "execution_count": 0,
   "metadata": {
    "application/vnd.databricks.v1+cell": {
     "cellMetadata": {
      "byteLimit": 2048000,
      "rowLimit": 10000
     },
     "inputWidgets": {},
     "nuid": "8051d03e-bae3-467f-9740-ef172de6f218",
     "showTitle": false,
     "tableResultSettingsMap": {},
     "title": ""
    },
    "microsoft": {}
   },
   "outputs": [],
   "source": [
    "# Convert to Delta format first (run once)\n",
    "old_sample_table = f\"{sample_table}\"\n",
    "new_sample_table = f\"{sample_table}_delta\"\n",
    "location = f\"{db_location}/{new_sample_table}\"\n",
    "\n",
    "sql_statement = f\"\"\"\n",
    "                    CREATE OR REPLACE TABLE {new_sample_table}\n",
    "                    USING DELTA\n",
    "                    LOCATION '{location}'\n",
    "                    AS SELECT * FROM {old_sample_table};\n",
    "                \"\"\"\n",
    "print(sql_statement)\n",
    "spark.sql(sql_statement)"
   ]
  },
  {
   "cell_type": "code",
   "execution_count": 0,
   "metadata": {
    "application/vnd.databricks.v1+cell": {
     "cellMetadata": {
      "byteLimit": 2048000,
      "rowLimit": 10000
     },
     "inputWidgets": {},
     "nuid": "c9db8437-7fe4-4563-bbae-1d1de4e66052",
     "showTitle": false,
     "tableResultSettingsMap": {},
     "title": ""
    },
    "collapsed": false,
    "microsoft": {
     "language": "sparksql"
    }
   },
   "outputs": [],
   "source": [
    "%%sql\n",
    "SELECT \n",
    "    account_iban,\n",
    "    account_owner,\n",
    "    tx_amount,\n",
    "    remittance_info,\n",
    "    booking_date,\n",
    "    end_to_end_id\n",
    "FROM stefan_koch_bronze.sample_data_delta\n",
    "WHERE \n",
    "    end_to_end_id = 'E2E-003-2024-09-20'\n",
    "    AND account_iban = 'CH93 0000 0000 0000 0001';"
   ]
  },
  {
   "cell_type": "code",
   "execution_count": 0,
   "metadata": {
    "application/vnd.databricks.v1+cell": {
     "cellMetadata": {
      "byteLimit": 2048000,
      "rowLimit": 10000
     },
     "inputWidgets": {},
     "nuid": "dad986eb-897b-46d0-8be6-09a198a47796",
     "showTitle": false,
     "tableResultSettingsMap": {},
     "title": ""
    },
    "collapsed": false,
    "microsoft": {
     "language": "sparksql"
    }
   },
   "outputs": [],
   "source": [
    "%%sql\n",
    "-- Update a specific transaction amount and remittance info\n",
    "UPDATE stefan_koch_bronze.sample_data_delta\n",
    "SET \n",
    "    tx_amount = 2000.0,\n",
    "    entry_amount = 2000.0,\n",
    "    remittance_info = 'Updated: Consulting services Q3 2024 - Final payment'\n",
    "WHERE \n",
    "    end_to_end_id = 'E2E-003-2024-09-20'\n",
    "    AND account_iban = 'CH93 0000 0000 0000 0001';"
   ]
  },
  {
   "cell_type": "code",
   "execution_count": 0,
   "metadata": {
    "application/vnd.databricks.v1+cell": {
     "cellMetadata": {
      "byteLimit": 2048000,
      "rowLimit": 10000
     },
     "inputWidgets": {},
     "nuid": "dcbcf1b3-28d6-4362-91a9-9580000e1176",
     "showTitle": false,
     "tableResultSettingsMap": {},
     "title": ""
    },
    "collapsed": false,
    "microsoft": {
     "language": "sparksql"
    }
   },
   "outputs": [],
   "source": [
    "%%sql\n",
    "SELECT \n",
    "    account_iban,\n",
    "    account_owner,\n",
    "    tx_amount,\n",
    "    remittance_info,\n",
    "    booking_date,\n",
    "    end_to_end_id\n",
    "FROM stefan_koch_bronze.sample_data_delta\n",
    "WHERE \n",
    "    end_to_end_id = 'E2E-003-2024-09-20'\n",
    "    AND account_iban = 'CH93 0000 0000 0000 0001';"
   ]
  },
  {
   "cell_type": "markdown",
   "metadata": {
    "application/vnd.databricks.v1+cell": {
     "cellMetadata": {
      "byteLimit": 2048000,
      "rowLimit": 10000
     },
     "inputWidgets": {},
     "nuid": "6eaedee8-2c03-463f-97c8-0aa402a07d0e",
     "showTitle": false,
     "tableResultSettingsMap": {},
     "title": ""
    },
    "nteract": {
     "transient": {
      "deleting": false
     }
    }
   },
   "source": [
    "## remove the parquet tables"
   ]
  },
  {
   "cell_type": "code",
   "execution_count": 0,
   "metadata": {
    "application/vnd.databricks.v1+cell": {
     "cellMetadata": {
      "byteLimit": 2048000,
      "rowLimit": 10000
     },
     "inputWidgets": {},
     "nuid": "3b458a06-e195-4ed5-a019-f5c478e6c59c",
     "showTitle": false,
     "tableResultSettingsMap": {},
     "title": ""
    }
   },
   "outputs": [],
   "source": [
    "spark.sql(\"SHOW TABLES\").show()"
   ]
  },
  {
   "cell_type": "code",
   "execution_count": 0,
   "metadata": {
    "application/vnd.databricks.v1+cell": {
     "cellMetadata": {
      "byteLimit": 2048000,
      "rowLimit": 10000
     },
     "inputWidgets": {},
     "nuid": "0791dfc3-4be4-4c19-97b7-96904a8a39dc",
     "showTitle": false,
     "tableResultSettingsMap": {},
     "title": ""
    },
    "collapsed": false,
    "microsoft": {
     "language": "sparksql"
    }
   },
   "outputs": [],
   "source": [
    "%%sql\n",
    "-- Drop specific table\n",
    "DROP TABLE IF EXISTS stefan_koch_bronze.sample_data_2;"
   ]
  },
  {
   "cell_type": "code",
   "execution_count": 0,
   "metadata": {
    "application/vnd.databricks.v1+cell": {
     "cellMetadata": {
      "byteLimit": 2048000,
      "rowLimit": 10000
     },
     "inputWidgets": {},
     "nuid": "2e95c863-5b26-4b15-80c5-9e64ba6b44e0",
     "showTitle": false,
     "tableResultSettingsMap": {},
     "title": ""
    }
   },
   "outputs": [],
   "source": [
    "spark.sql(\"SHOW TABLES\").show()"
   ]
  },
  {
   "cell_type": "markdown",
   "metadata": {
    "application/vnd.databricks.v1+cell": {
     "cellMetadata": {
      "byteLimit": 2048000,
      "rowLimit": 10000
     },
     "inputWidgets": {},
     "nuid": "6444b9af-d1aa-4e26-9547-ee4eae6bec02",
     "showTitle": false,
     "tableResultSettingsMap": {},
     "title": ""
    },
    "nteract": {
     "transient": {
      "deleting": false
     }
    }
   },
   "source": [
    "## Create Views"
   ]
  },
  {
   "cell_type": "code",
   "execution_count": 0,
   "metadata": {
    "application/vnd.databricks.v1+cell": {
     "cellMetadata": {
      "byteLimit": 2048000,
      "rowLimit": 10000
     },
     "inputWidgets": {},
     "nuid": "07a07718-6c19-43d2-8f34-0c2bffb822d8",
     "showTitle": false,
     "tableResultSettingsMap": {},
     "title": ""
    },
    "collapsed": false,
    "microsoft": {
     "language": "sparksql"
    }
   },
   "outputs": [],
   "source": [
    "%%sql\n",
    "CREATE VIEW stefan_koch_bronze.vw_sample_data AS SELECT * FROM stefan_koch_bronze.sample_data_delta;"
   ]
  },
  {
   "cell_type": "code",
   "execution_count": 0,
   "metadata": {
    "application/vnd.databricks.v1+cell": {
     "cellMetadata": {
      "byteLimit": 2048000,
      "rowLimit": 10000
     },
     "inputWidgets": {},
     "nuid": "fb5fd280-b5cb-43db-ab36-7e74be8402b5",
     "showTitle": false,
     "tableResultSettingsMap": {},
     "title": ""
    },
    "collapsed": false,
    "microsoft": {
     "language": "sparksql"
    }
   },
   "outputs": [],
   "source": [
    "%%sql\n",
    "SELECT * FROM stefan_koch_bronze.vw_sample_data "
   ]
  },
  {
   "cell_type": "markdown",
   "metadata": {
    "application/vnd.databricks.v1+cell": {
     "cellMetadata": {
      "byteLimit": 2048000,
      "rowLimit": 10000
     },
     "inputWidgets": {},
     "nuid": "3d563a84-3178-4587-850f-b0f575371de5",
     "showTitle": false,
     "tableResultSettingsMap": {},
     "title": ""
    },
    "nteract": {
     "transient": {
      "deleting": false
     }
    }
   },
   "source": [
    "## create delta tables from dataframe\n",
    "You don't have to convert a spark table into delta, directly write delta"
   ]
  },
  {
   "cell_type": "code",
   "execution_count": 0,
   "metadata": {
    "application/vnd.databricks.v1+cell": {
     "cellMetadata": {
      "byteLimit": 2048000,
      "rowLimit": 10000
     },
     "inputWidgets": {},
     "nuid": "92b76cd9-9a98-4258-9aed-7ccfbb6cc805",
     "showTitle": false,
     "tableResultSettingsMap": {},
     "title": ""
    },
    "collapsed": false
   },
   "outputs": [],
   "source": [
    "display(sample_df)"
   ]
  },
  {
   "cell_type": "code",
   "execution_count": 0,
   "metadata": {
    "application/vnd.databricks.v1+cell": {
     "cellMetadata": {
      "byteLimit": 2048000,
      "rowLimit": 10000
     },
     "inputWidgets": {},
     "nuid": "d61834dc-8818-46d5-95f0-079eb40b7574",
     "showTitle": false,
     "tableResultSettingsMap": {},
     "title": ""
    }
   },
   "outputs": [],
   "source": [
    "# Define storage location\n",
    "sample_table = \"stefan_koch_bronze.my_dataframe_delta\"\n",
    "storage_location = f\"{db_location}/my_dataframe_delta\"\n",
    "\n",
    "# Write DataFrame as Delta table\n",
    "df.write \\\n",
    "  .format(\"delta\") \\\n",
    "  .mode(\"overwrite\") \\\n",
    "  .option(\"path\", storage_location) \\\n",
    "  .saveAsTable(sample_table)\n",
    "\n",
    "print(f\"✅ Delta table '{sample_table}' created at: {storage_location}\")"
   ]
  },
  {
   "cell_type": "markdown",
   "metadata": {
    "application/vnd.databricks.v1+cell": {
     "cellMetadata": {
      "byteLimit": 2048000,
      "rowLimit": 10000
     },
     "inputWidgets": {},
     "nuid": "22029d79-1aba-4df9-9731-9edb55ed5149",
     "showTitle": false,
     "tableResultSettingsMap": {},
     "title": ""
    },
    "nteract": {
     "transient": {
      "deleting": false
     }
    }
   },
   "source": [
    "## Delta Tables"
   ]
  },
  {
   "cell_type": "code",
   "execution_count": 0,
   "metadata": {
    "application/vnd.databricks.v1+cell": {
     "cellMetadata": {
      "byteLimit": 2048000,
      "rowLimit": 10000
     },
     "inputWidgets": {},
     "nuid": "2339c53e-557b-4184-95a2-ec352bb334f2",
     "showTitle": false,
     "tableResultSettingsMap": {},
     "title": ""
    }
   },
   "outputs": [],
   "source": [
    "# Show current table info\n",
    "print(\"=== Current Delta Table Info ===\")\n",
    "spark.sql(\"DESCRIBE EXTENDED stefan_koch_bronze.sample_data_delta\").show(truncate=False)\n"
   ]
  },
  {
   "cell_type": "code",
   "execution_count": 0,
   "metadata": {
    "application/vnd.databricks.v1+cell": {
     "cellMetadata": {
      "byteLimit": 2048000,
      "rowLimit": 10000
     },
     "inputWidgets": {},
     "nuid": "cea3e1b7-893e-430a-86e7-cc0ba2a41b9b",
     "showTitle": false,
     "tableResultSettingsMap": {},
     "title": ""
    }
   },
   "outputs": [],
   "source": [
    "\n",
    "# Show Delta Lake properties\n",
    "spark.sql(\"SHOW TBLPROPERTIES stefan_koch_bronze.sample_data_delta\").show(truncate=False)"
   ]
  },
  {
   "cell_type": "markdown",
   "metadata": {
    "application/vnd.databricks.v1+cell": {
     "cellMetadata": {
      "byteLimit": 2048000,
      "rowLimit": 10000
     },
     "inputWidgets": {},
     "nuid": "b8da7e25-6a2d-4238-a176-a6649970d81a",
     "showTitle": false,
     "tableResultSettingsMap": {},
     "title": ""
    },
    "nteract": {
     "transient": {
      "deleting": false
     }
    }
   },
   "source": [
    "### Some deletes on the table"
   ]
  },
  {
   "cell_type": "code",
   "execution_count": 0,
   "metadata": {
    "application/vnd.databricks.v1+cell": {
     "cellMetadata": {
      "byteLimit": 2048000,
      "rowLimit": 10000
     },
     "inputWidgets": {},
     "nuid": "8b9ad93f-5134-46d5-85e1-030592792f32",
     "showTitle": false,
     "tableResultSettingsMap": {},
     "title": ""
    },
    "collapsed": false,
    "microsoft": {
     "language": "sparksql"
    }
   },
   "outputs": [],
   "source": [
    "%%sql\n",
    "SELECT COUNT(*) FROM stefan_koch_bronze.sample_data_delta"
   ]
  },
  {
   "cell_type": "code",
   "execution_count": 0,
   "metadata": {
    "application/vnd.databricks.v1+cell": {
     "cellMetadata": {
      "byteLimit": 2048000,
      "rowLimit": 10000
     },
     "inputWidgets": {},
     "nuid": "66a6db0a-9d65-43de-9458-e8cfb126f8dc",
     "showTitle": false,
     "tableResultSettingsMap": {},
     "title": ""
    },
    "collapsed": false,
    "microsoft": {
     "language": "sparksql"
    }
   },
   "outputs": [],
   "source": [
    "%%sql\n",
    "SELECT * FROM stefan_koch_bronze.sample_data_delta"
   ]
  },
  {
   "cell_type": "code",
   "execution_count": 0,
   "metadata": {
    "application/vnd.databricks.v1+cell": {
     "cellMetadata": {
      "byteLimit": 2048000,
      "rowLimit": 10000
     },
     "inputWidgets": {},
     "nuid": "3de94b09-f0fa-42c9-b42e-6baa2915e98d",
     "showTitle": false,
     "tableResultSettingsMap": {},
     "title": ""
    },
    "collapsed": false,
    "microsoft": {
     "language": "sparksql"
    }
   },
   "outputs": [],
   "source": [
    "%%sql\n",
    "DELETE FROM stefan_koch_bronze.sample_data_delta\n",
    "WHERE account_currency = 'CHF';"
   ]
  },
  {
   "cell_type": "code",
   "execution_count": 0,
   "metadata": {
    "application/vnd.databricks.v1+cell": {
     "cellMetadata": {
      "byteLimit": 2048000,
      "rowLimit": 10000
     },
     "inputWidgets": {},
     "nuid": "4f902501-529f-41cf-84b3-31b0efc4be2e",
     "showTitle": false,
     "tableResultSettingsMap": {},
     "title": ""
    },
    "collapsed": false,
    "microsoft": {
     "language": "sparksql"
    }
   },
   "outputs": [],
   "source": [
    "%%sql\n",
    "SELECT * FROM stefan_koch_bronze.sample_data_delta"
   ]
  },
  {
   "cell_type": "markdown",
   "metadata": {
    "application/vnd.databricks.v1+cell": {
     "cellMetadata": {
      "byteLimit": 2048000,
      "rowLimit": 10000
     },
     "inputWidgets": {},
     "nuid": "eadef094-af05-4934-8f45-ed2f4e00cbc6",
     "showTitle": false,
     "tableResultSettingsMap": {},
     "title": ""
    },
    "nteract": {
     "transient": {
      "deleting": false
     }
    }
   },
   "source": [
    "## Show history"
   ]
  },
  {
   "cell_type": "code",
   "execution_count": 0,
   "metadata": {
    "application/vnd.databricks.v1+cell": {
     "cellMetadata": {
      "byteLimit": 2048000,
      "rowLimit": 10000
     },
     "inputWidgets": {},
     "nuid": "77db969c-4c8f-4cba-985b-d846a9303e24",
     "showTitle": false,
     "tableResultSettingsMap": {},
     "title": ""
    },
    "collapsed": false,
    "microsoft": {
     "language": "sparksql"
    }
   },
   "outputs": [],
   "source": [
    "%%sql\n",
    "DESCRIBE HISTORY stefan_koch_bronze.sample_data_delta"
   ]
  },
  {
   "cell_type": "markdown",
   "metadata": {
    "application/vnd.databricks.v1+cell": {
     "cellMetadata": {
      "byteLimit": 2048000,
      "rowLimit": 10000
     },
     "inputWidgets": {},
     "nuid": "f3812e15-0df0-445a-9492-3db29a582b3d",
     "showTitle": false,
     "tableResultSettingsMap": {},
     "title": ""
    },
    "nteract": {
     "transient": {
      "deleting": false
     }
    }
   },
   "source": [
    "## Time travel by version"
   ]
  },
  {
   "cell_type": "code",
   "execution_count": 0,
   "metadata": {
    "application/vnd.databricks.v1+cell": {
     "cellMetadata": {
      "byteLimit": 2048000,
      "rowLimit": 10000
     },
     "inputWidgets": {},
     "nuid": "82d9221f-4fe7-4953-b622-ce3aeadb9360",
     "showTitle": false,
     "tableResultSettingsMap": {},
     "title": ""
    },
    "collapsed": false,
    "microsoft": {
     "language": "sparksql"
    }
   },
   "outputs": [],
   "source": [
    "%%sql\n",
    "-- the actual table, as it is:\n",
    "SELECT * FROM stefan_koch_bronze.sample_data_delta "
   ]
  },
  {
   "cell_type": "code",
   "execution_count": 0,
   "metadata": {
    "application/vnd.databricks.v1+cell": {
     "cellMetadata": {
      "byteLimit": 2048000,
      "rowLimit": 10000
     },
     "inputWidgets": {},
     "nuid": "d0d78996-ae0b-4bee-91f1-05fe743e1589",
     "showTitle": false,
     "tableResultSettingsMap": {},
     "title": ""
    },
    "collapsed": false,
    "microsoft": {
     "language": "sparksql"
    }
   },
   "outputs": [],
   "source": [
    "%%sql\n",
    "-- Query Version 0 (original data)\n",
    "SELECT * FROM stefan_koch_bronze.sample_data_delta VERSION AS OF 0"
   ]
  },
  {
   "cell_type": "code",
   "execution_count": 0,
   "metadata": {
    "application/vnd.databricks.v1+cell": {
     "cellMetadata": {
      "byteLimit": 2048000,
      "rowLimit": 10000
     },
     "inputWidgets": {},
     "nuid": "c54ccdba-6c12-4f0d-9f82-5b210e890903",
     "showTitle": false,
     "tableResultSettingsMap": {},
     "title": ""
    },
    "collapsed": false,
    "microsoft": {
     "language": "sparksql"
    }
   },
   "outputs": [],
   "source": [
    "%%sql\n",
    "-- Query Version 0 (original data)\n",
    "SELECT * FROM stefan_koch_bronze.sample_data_delta VERSION AS OF 1"
   ]
  },
  {
   "cell_type": "code",
   "execution_count": 0,
   "metadata": {
    "application/vnd.databricks.v1+cell": {
     "cellMetadata": {
      "byteLimit": 2048000,
      "rowLimit": 10000
     },
     "inputWidgets": {},
     "nuid": "2d6f174f-1023-4a3e-b5a2-8e0f7f9763d8",
     "showTitle": false,
     "tableResultSettingsMap": {},
     "title": ""
    },
    "collapsed": false,
    "microsoft": {
     "language": "sparksql"
    }
   },
   "outputs": [],
   "source": [
    "%%sql\n",
    "-- Query Version 0 (original data)\n",
    "SELECT * FROM stefan_koch_bronze.sample_data_delta VERSION AS OF 2"
   ]
  },
  {
   "cell_type": "markdown",
   "metadata": {
    "application/vnd.databricks.v1+cell": {
     "cellMetadata": {
      "byteLimit": 2048000,
      "rowLimit": 10000
     },
     "inputWidgets": {},
     "nuid": "b692eac4-3a41-499f-a4be-f2df830a69bc",
     "showTitle": false,
     "tableResultSettingsMap": {},
     "title": ""
    },
    "nteract": {
     "transient": {
      "deleting": false
     }
    }
   },
   "source": [
    "## Timetravel by timestamp"
   ]
  },
  {
   "cell_type": "code",
   "execution_count": 0,
   "metadata": {
    "application/vnd.databricks.v1+cell": {
     "cellMetadata": {
      "byteLimit": 2048000,
      "rowLimit": 10000
     },
     "inputWidgets": {},
     "nuid": "01d16f06-6775-4aea-8a0b-e39e1ac4b6c3",
     "showTitle": false,
     "tableResultSettingsMap": {},
     "title": ""
    },
    "collapsed": false,
    "microsoft": {
     "language": "sparksql"
    }
   },
   "outputs": [],
   "source": [
    "%%sql\n",
    "SELECT *\n",
    "FROM stefan_koch_bronze.sample_data_delta \n",
    "TIMESTAMP AS OF current_timestamp() - INTERVAL 10 MINUTES"
   ]
  },
  {
   "cell_type": "markdown",
   "metadata": {
    "application/vnd.databricks.v1+cell": {
     "cellMetadata": {
      "byteLimit": 2048000,
      "rowLimit": 10000
     },
     "inputWidgets": {},
     "nuid": "f92301ad-bf53-4a79-bda1-9e268d12dcf8",
     "showTitle": false,
     "tableResultSettingsMap": {},
     "title": ""
    },
    "nteract": {
     "transient": {
      "deleting": false
     }
    }
   },
   "source": [
    "## Delta History - Audit Trail"
   ]
  },
  {
   "cell_type": "code",
   "execution_count": 0,
   "metadata": {
    "application/vnd.databricks.v1+cell": {
     "cellMetadata": {
      "byteLimit": 2048000,
      "rowLimit": 10000
     },
     "inputWidgets": {},
     "nuid": "14795caa-7853-426d-9513-1cff5e781124",
     "showTitle": false,
     "tableResultSettingsMap": {},
     "title": ""
    },
    "collapsed": false,
    "microsoft": {
     "language": "sparksql"
    }
   },
   "outputs": [],
   "source": [
    "%%sql\n",
    "SELECT * FROM stefan_koch_bronze.sample_data_delta VERSION AS OF 1\n",
    "EXCEPT\n",
    "SELECT * FROM stefan_koch_bronze.sample_data_delta VERSION AS OF 0"
   ]
  },
  {
   "cell_type": "markdown",
   "metadata": {
    "application/vnd.databricks.v1+cell": {
     "cellMetadata": {
      "byteLimit": 2048000,
      "rowLimit": 10000
     },
     "inputWidgets": {},
     "nuid": "40c0dd6d-ea3b-4706-995c-ed71955997dc",
     "showTitle": false,
     "tableResultSettingsMap": {},
     "title": ""
    },
    "nteract": {
     "transient": {
      "deleting": false
     }
    }
   },
   "source": [
    "## Restore table to an earlier version\n",
    "we want to go back to version 1"
   ]
  },
  {
   "cell_type": "code",
   "execution_count": 0,
   "metadata": {
    "application/vnd.databricks.v1+cell": {
     "cellMetadata": {
      "byteLimit": 2048000,
      "rowLimit": 10000
     },
     "inputWidgets": {},
     "nuid": "adeee54f-1eeb-41fb-b473-fb866cfe7677",
     "showTitle": false,
     "tableResultSettingsMap": {},
     "title": ""
    },
    "collapsed": false,
    "microsoft": {
     "language": "sparksql"
    }
   },
   "outputs": [],
   "source": [
    "%%sql\n",
    "-- Restore by version\n",
    "RESTORE TABLE stefan_koch_bronze.sample_data_delta TO VERSION AS OF 1;"
   ]
  },
  {
   "cell_type": "code",
   "execution_count": 0,
   "metadata": {
    "application/vnd.databricks.v1+cell": {
     "cellMetadata": {
      "byteLimit": 2048000,
      "rowLimit": 10000
     },
     "inputWidgets": {},
     "nuid": "f0e94e53-4b07-415f-9702-674837c96224",
     "showTitle": false,
     "tableResultSettingsMap": {},
     "title": ""
    },
    "collapsed": false,
    "microsoft": {
     "language": "sparksql"
    }
   },
   "outputs": [],
   "source": [
    "%%sql\n",
    "SELECT * FROM stefan_koch_bronze.sample_data_delta"
   ]
  },
  {
   "cell_type": "code",
   "execution_count": 0,
   "metadata": {
    "application/vnd.databricks.v1+cell": {
     "cellMetadata": {
      "byteLimit": 2048000,
      "rowLimit": 10000
     },
     "inputWidgets": {},
     "nuid": "afaccf64-991d-4669-8a68-b9caacba6887",
     "showTitle": false,
     "tableResultSettingsMap": {},
     "title": ""
    },
    "collapsed": false,
    "microsoft": {
     "language": "sparksql"
    }
   },
   "outputs": [],
   "source": [
    "%%sql\n",
    "DESCRIBE HISTORY stefan_koch_bronze.sample_data_delta"
   ]
  },
  {
   "cell_type": "markdown",
   "metadata": {
    "application/vnd.databricks.v1+cell": {
     "cellMetadata": {
      "byteLimit": 2048000,
      "rowLimit": 10000
     },
     "inputWidgets": {},
     "nuid": "9d746f86-3075-4f00-a494-eb7105bc2548",
     "showTitle": false,
     "tableResultSettingsMap": {},
     "title": ""
    },
    "nteract": {
     "transient": {
      "deleting": false
     }
    }
   },
   "source": [
    "## Schema Evolution"
   ]
  },
  {
   "cell_type": "code",
   "execution_count": 0,
   "metadata": {
    "application/vnd.databricks.v1+cell": {
     "cellMetadata": {
      "byteLimit": 2048000,
      "rowLimit": 10000
     },
     "inputWidgets": {},
     "nuid": "c9e9d46b-085a-4345-b44e-21b9f42ea8cb",
     "showTitle": false,
     "tableResultSettingsMap": {},
     "title": ""
    }
   },
   "outputs": [],
   "source": [
    "print(\"Adding new column 'transaction_category'...\")\n",
    "spark.sql(\"\"\"\n",
    "ALTER TABLE stefan_koch_bronze.sample_data_delta \n",
    "ADD COLUMN transaction_category STRING DEFAULT 'General'\n",
    "\"\"\")"
   ]
  },
  {
   "cell_type": "code",
   "execution_count": 0,
   "metadata": {
    "application/vnd.databricks.v1+cell": {
     "cellMetadata": {
      "byteLimit": 2048000,
      "rowLimit": 10000
     },
     "inputWidgets": {},
     "nuid": "d2360fcf-e0b6-44e6-a137-7e3794c3a4a7",
     "showTitle": false,
     "tableResultSettingsMap": {},
     "title": ""
    },
    "microsoft": {
     "language": "sparksql"
    }
   },
   "outputs": [],
   "source": [
    "%%sql\n",
    "SELECT transaction_category, * FROM stefan_koch_bronze.sample_data_delta"
   ]
  },
  {
   "cell_type": "code",
   "execution_count": 0,
   "metadata": {
    "application/vnd.databricks.v1+cell": {
     "cellMetadata": {
      "byteLimit": 2048000,
      "rowLimit": 10000
     },
     "inputWidgets": {},
     "nuid": "4bc1fda0-b1de-4b25-b0ca-ba3bb1e014c7",
     "showTitle": false,
     "tableResultSettingsMap": {},
     "title": ""
    }
   },
   "outputs": [],
   "source": [
    "# Update some categories\n",
    "spark.sql(\"\"\"\n",
    "UPDATE stefan_koch_bronze.sample_data_delta \n",
    "SET transaction_category = CASE \n",
    "    WHEN remittance_info LIKE '%salary%' OR remittance_info LIKE '%Salary%' THEN 'Payroll'\n",
    "    WHEN remittance_info LIKE '%training%' OR remittance_info LIKE '%Training%' THEN 'Education'\n",
    "    WHEN remittance_info LIKE '%office%' OR remittance_info LIKE '%Office%' THEN 'Office Expenses'\n",
    "    ELSE 'General'\n",
    "END\n",
    "\"\"\")"
   ]
  },
  {
   "cell_type": "code",
   "execution_count": 0,
   "metadata": {
    "application/vnd.databricks.v1+cell": {
     "cellMetadata": {
      "byteLimit": 2048000,
      "rowLimit": 10000
     },
     "inputWidgets": {},
     "nuid": "5d7dca33-6e65-475e-aa5f-ae8c638693b4",
     "showTitle": false,
     "tableResultSettingsMap": {},
     "title": ""
    },
    "collapsed": false,
    "microsoft": {
     "language": "sparksql"
    }
   },
   "outputs": [],
   "source": [
    "%%sql\n",
    "SELECT transaction_category, * FROM stefan_koch_bronze.sample_data_delta"
   ]
  },
  {
   "cell_type": "markdown",
   "metadata": {
    "application/vnd.databricks.v1+cell": {
     "cellMetadata": {
      "byteLimit": 2048000,
      "rowLimit": 10000
     },
     "inputWidgets": {},
     "nuid": "4d9141b6-78a8-43c5-bc6d-8b9a6a9715d1",
     "showTitle": false,
     "tableResultSettingsMap": {},
     "title": ""
    },
    "nteract": {
     "transient": {
      "deleting": false
     }
    }
   },
   "source": [
    "## Optimizations"
   ]
  },
  {
   "cell_type": "markdown",
   "metadata": {
    "application/vnd.databricks.v1+cell": {
     "cellMetadata": {
      "byteLimit": 2048000,
      "rowLimit": 10000
     },
     "inputWidgets": {},
     "nuid": "a8c893ec-4d3f-4079-874e-12f6f7b116c8",
     "showTitle": false,
     "tableResultSettingsMap": {},
     "title": ""
    },
    "nteract": {
     "transient": {
      "deleting": false
     }
    }
   },
   "source": [
    "### have a look at the folder, where the delta table is stored.\n"
   ]
  },
  {
   "cell_type": "markdown",
   "metadata": {
    "application/vnd.databricks.v1+cell": {
     "cellMetadata": {
      "byteLimit": 2048000,
      "rowLimit": 10000
     },
     "inputWidgets": {},
     "nuid": "fa1ae369-d8eb-4e5e-b27d-89c3458927e3",
     "showTitle": false,
     "tableResultSettingsMap": {},
     "title": ""
    },
    "nteract": {
     "transient": {
      "deleting": false
     }
    }
   },
   "source": [
    "### let's have a look at some statistics"
   ]
  },
  {
   "cell_type": "code",
   "execution_count": 0,
   "metadata": {
    "application/vnd.databricks.v1+cell": {
     "cellMetadata": {
      "byteLimit": 2048000,
      "rowLimit": 10000
     },
     "inputWidgets": {},
     "nuid": "29a55b55-3a5a-42db-af57-4a5523c479be",
     "showTitle": false,
     "tableResultSettingsMap": {},
     "title": ""
    },
    "collapsed": false,
    "microsoft": {
     "language": "sparksql"
    }
   },
   "outputs": [],
   "source": [
    "%%sql\n",
    "DESCRIBE DETAIL stefan_koch_bronze.sample_data_delta"
   ]
  },
  {
   "cell_type": "markdown",
   "metadata": {
    "application/vnd.databricks.v1+cell": {
     "cellMetadata": {
      "byteLimit": 2048000,
      "rowLimit": 10000
     },
     "inputWidgets": {},
     "nuid": "1a1b9d96-619c-435d-b39e-bbbaa4b73161",
     "showTitle": false,
     "tableResultSettingsMap": {},
     "title": ""
    },
    "nteract": {
     "transient": {
      "deleting": false
     }
    }
   },
   "source": [
    "### let's optimize and do file compaction"
   ]
  },
  {
   "cell_type": "code",
   "execution_count": 0,
   "metadata": {
    "application/vnd.databricks.v1+cell": {
     "cellMetadata": {
      "byteLimit": 2048000,
      "rowLimit": 10000
     },
     "inputWidgets": {},
     "nuid": "8b459cb9-1b4f-4ba7-8e9a-20be58c6e8af",
     "showTitle": false,
     "tableResultSettingsMap": {},
     "title": ""
    }
   },
   "outputs": [],
   "source": [
    "# OPTIMIZE - Compaction\n",
    "print(\"1. OPTIMIZE (File Compaction):\")\n",
    "spark.sql(\"OPTIMIZE stefan_koch_bronze.sample_data_delta\").show()"
   ]
  },
  {
   "cell_type": "markdown",
   "metadata": {
    "application/vnd.databricks.v1+cell": {
     "cellMetadata": {
      "byteLimit": 2048000,
      "rowLimit": 10000
     },
     "inputWidgets": {},
     "nuid": "78e6ba48-d797-4f2e-ae80-78367595d5c5",
     "showTitle": false,
     "tableResultSettingsMap": {},
     "title": ""
    },
    "nteract": {
     "transient": {
      "deleting": false
     }
    }
   },
   "source": [
    "### Z-ORDER optimization"
   ]
  },
  {
   "cell_type": "code",
   "execution_count": 0,
   "metadata": {
    "application/vnd.databricks.v1+cell": {
     "cellMetadata": {
      "byteLimit": 2048000,
      "rowLimit": 10000
     },
     "inputWidgets": {},
     "nuid": "7eb8bb67-0c53-4e79-b810-4dceab449fcc",
     "showTitle": false,
     "tableResultSettingsMap": {},
     "title": ""
    }
   },
   "outputs": [],
   "source": [
    "# Z-ORDER optimization \n",
    "print(\"\\n2. Z-ORDER optimization (by account_owner and booking_date):\")\n",
    "spark.sql(\"\"\"\n",
    "OPTIMIZE stefan_koch_bronze.sample_data_delta \n",
    "ZORDER BY (account_owner, booking_date)\n",
    "\"\"\").show()"
   ]
  },
  {
   "cell_type": "markdown",
   "metadata": {
    "application/vnd.databricks.v1+cell": {
     "cellMetadata": {
      "byteLimit": 2048000,
      "rowLimit": 10000
     },
     "inputWidgets": {},
     "nuid": "14314427-1f80-4d86-868c-9e727df4fbb9",
     "showTitle": false,
     "tableResultSettingsMap": {},
     "title": ""
    },
    "nteract": {
     "transient": {
      "deleting": false
     }
    }
   },
   "source": [
    "### Show file statistics"
   ]
  },
  {
   "cell_type": "code",
   "execution_count": 0,
   "metadata": {
    "application/vnd.databricks.v1+cell": {
     "cellMetadata": {
      "byteLimit": 2048000,
      "rowLimit": 10000
     },
     "inputWidgets": {},
     "nuid": "d351be78-82e8-4f13-8a99-94abacacd17b",
     "showTitle": false,
     "tableResultSettingsMap": {},
     "title": ""
    },
    "collapsed": false,
    "microsoft": {
     "language": "sparksql"
    }
   },
   "outputs": [],
   "source": [
    "%%sql\n",
    "DESCRIBE DETAIL stefan_koch_bronze.sample_data_delta"
   ]
  },
  {
   "cell_type": "markdown",
   "metadata": {
    "application/vnd.databricks.v1+cell": {
     "cellMetadata": {
      "byteLimit": 2048000,
      "rowLimit": 10000
     },
     "inputWidgets": {},
     "nuid": "c64a3dc0-5fdc-4e3e-a266-b62ddcddd788",
     "showTitle": false,
     "tableResultSettingsMap": {},
     "title": ""
    },
    "nteract": {
     "transient": {
      "deleting": false
     }
    }
   },
   "source": [
    "## Vacuum - Cleanup old files"
   ]
  },
  {
   "cell_type": "code",
   "execution_count": 0,
   "metadata": {
    "application/vnd.databricks.v1+cell": {
     "cellMetadata": {
      "byteLimit": 2048000,
      "rowLimit": 10000
     },
     "inputWidgets": {},
     "nuid": "de2e3af5-cfa5-4323-a12a-dad5522062ba",
     "showTitle": false,
     "tableResultSettingsMap": {},
     "title": ""
    }
   },
   "outputs": [],
   "source": [
    "print(\"Files before VACUUM:\")\n",
    "detail_before = spark.sql(\"DESCRIBE DETAIL stefan_koch_bronze.sample_data_delta\")\n",
    "detail_before.select(\"numFiles\", \"sizeInBytes\").show()"
   ]
  },
  {
   "cell_type": "code",
   "execution_count": 0,
   "metadata": {
    "application/vnd.databricks.v1+cell": {
     "cellMetadata": {
      "byteLimit": 2048000,
      "rowLimit": 10000
     },
     "inputWidgets": {},
     "nuid": "82ef3e32-fcf9-4208-80a4-e585f5b7c206",
     "showTitle": false,
     "tableResultSettingsMap": {},
     "title": ""
    }
   },
   "outputs": [],
   "source": [
    "# VACUUM (careful with retention!)\n",
    "print(\"Running VACUUM (removing files older than 168 hours)...\")\n",
    "spark.sql(\"VACUUM stefan_koch_bronze.sample_data_delta RETAIN 168 HOURS\").show()\n"
   ]
  },
  {
   "cell_type": "markdown",
   "metadata": {
    "application/vnd.databricks.v1+cell": {
     "cellMetadata": {
      "byteLimit": 2048000,
      "rowLimit": 10000
     },
     "inputWidgets": {},
     "nuid": "33719852-b961-42d4-a2de-1ba35effd0ef",
     "showTitle": false,
     "tableResultSettingsMap": {},
     "title": ""
    },
    "nteract": {
     "transient": {
      "deleting": false
     }
    }
   },
   "source": [
    "## Get rid of all versions"
   ]
  },
  {
   "cell_type": "code",
   "execution_count": 0,
   "metadata": {
    "application/vnd.databricks.v1+cell": {
     "cellMetadata": {
      "byteLimit": 2048000,
      "rowLimit": 10000
     },
     "inputWidgets": {},
     "nuid": "5a7d4251-8437-4632-b696-f60130668d75",
     "showTitle": false,
     "tableResultSettingsMap": {},
     "title": ""
    }
   },
   "outputs": [],
   "source": [
    "# Enable VACUUM with 0 hours (normally not allowed)\n",
    "spark.conf.set(\"spark.databricks.delta.retentionDurationCheck.enabled\", \"false\")\n"
   ]
  },
  {
   "cell_type": "code",
   "execution_count": 0,
   "metadata": {
    "application/vnd.databricks.v1+cell": {
     "cellMetadata": {
      "byteLimit": 2048000,
      "rowLimit": 10000
     },
     "inputWidgets": {},
     "nuid": "59871fa0-a4a6-42e3-8ac4-dae0735bb3e4",
     "showTitle": false,
     "tableResultSettingsMap": {},
     "title": ""
    }
   },
   "outputs": [],
   "source": [
    "print(\"=== Running VACUUM (removing ALL old versions) ===\")\n",
    "print(\"⚠️  This will remove ALL historical data files!\")\n",
    "\n",
    "# VACUUM with 0 hours retention - removes everything except current version\n",
    "vacuum_result = spark.sql(\"VACUUM stefan_koch_bronze.sample_data_delta RETAIN 0 HOURS\")\n",
    "vacuum_result.show()"
   ]
  },
  {
   "cell_type": "markdown",
   "metadata": {
    "application/vnd.databricks.v1+cell": {
     "cellMetadata": {
      "byteLimit": 2048000,
      "rowLimit": 10000
     },
     "inputWidgets": {},
     "nuid": "5fd520e2-0a49-46c1-be93-900006cfa491",
     "showTitle": false,
     "tableResultSettingsMap": {},
     "title": ""
    },
    "nteract": {
     "transient": {
      "deleting": false
     }
    }
   },
   "source": [
    "## check Vacuum Operation"
   ]
  },
  {
   "cell_type": "markdown",
   "metadata": {
    "application/vnd.databricks.v1+cell": {
     "cellMetadata": {
      "byteLimit": 2048000,
      "rowLimit": 10000
     },
     "inputWidgets": {},
     "nuid": "b52e44e7-030c-4186-8fc0-fb0244280290",
     "showTitle": false,
     "tableResultSettingsMap": {},
     "title": ""
    },
    "nteract": {
     "transient": {
      "deleting": false
     }
    }
   },
   "source": [
    "have a look at the Storage Account, where the delta table is stored"
   ]
  },
  {
   "cell_type": "code",
   "execution_count": 0,
   "metadata": {
    "application/vnd.databricks.v1+cell": {
     "cellMetadata": {
      "byteLimit": 2048000,
      "rowLimit": 10000
     },
     "inputWidgets": {},
     "nuid": "32da86b1-0207-46e7-8c05-9ddce7bdba6b",
     "showTitle": false,
     "tableResultSettingsMap": {},
     "title": ""
    },
    "collapsed": false,
    "microsoft": {
     "language": "sparksql"
    }
   },
   "outputs": [],
   "source": [
    "%%sql\n",
    "DESCRIBE HISTORY stefan_koch_bronze.sample_data_delta"
   ]
  },
  {
   "cell_type": "code",
   "execution_count": 0,
   "metadata": {
    "application/vnd.databricks.v1+cell": {
     "cellMetadata": {
      "byteLimit": 2048000,
      "rowLimit": 10000
     },
     "inputWidgets": {},
     "nuid": "29696aa6-afb2-47ca-af2d-4e1644616a9a",
     "showTitle": false,
     "tableResultSettingsMap": {},
     "title": ""
    },
    "collapsed": false,
    "microsoft": {
     "language": "sparksql"
    }
   },
   "outputs": [],
   "source": [
    "%%sql\n",
    "DESCRIBE DETAIL stefan_koch_bronze.sample_data_delta"
   ]
  },
  {
   "cell_type": "code",
   "execution_count": 0,
   "metadata": {
    "application/vnd.databricks.v1+cell": {
     "cellMetadata": {
      "byteLimit": 2048000,
      "rowLimit": 10000
     },
     "inputWidgets": {},
     "nuid": "35db2289-471c-4c60-857d-2a00465107a9",
     "showTitle": false,
     "tableResultSettingsMap": {},
     "title": ""
    },
    "collapsed": false,
    "microsoft": {
     "language": "sparksql"
    }
   },
   "outputs": [],
   "source": [
    "%%sql\n",
    "SELECT * FROM stefan_koch_bronze.sample_data_delta"
   ]
  },
  {
   "cell_type": "markdown",
   "metadata": {
    "application/vnd.databricks.v1+cell": {
     "cellMetadata": {
      "byteLimit": 2048000,
      "rowLimit": 10000
     },
     "inputWidgets": {},
     "nuid": "d987757b-1ae6-48ce-8d4f-9db56c4413d9",
     "showTitle": false,
     "tableResultSettingsMap": {},
     "title": ""
    },
    "nteract": {
     "transient": {
      "deleting": false
     }
    }
   },
   "source": [
    "## Query the data with the SQL Pool (built-in)"
   ]
  },
  {
   "cell_type": "markdown",
   "metadata": {
    "application/vnd.databricks.v1+cell": {
     "cellMetadata": {
      "byteLimit": 2048000,
      "rowLimit": 10000
     },
     "inputWidgets": {},
     "nuid": "70a2e4e1-f954-481a-a327-d1deb083f3e6",
     "showTitle": false,
     "tableResultSettingsMap": {},
     "title": ""
    },
    "nteract": {
     "transient": {
      "deleting": false
     }
    }
   },
   "source": [
    "```sql\n",
    "SELECT\n",
    "    TOP 100 *\n",
    "FROM\n",
    "    OPENROWSET(\n",
    "        BULK 'https://adlssynapsealtyca.dfs.core.windows.net/bronze/stefan_koch/sample_data_delta/',\n",
    "        FORMAT = 'DELTA'\n",
    "    ) AS [result]\n",
    "```"
   ]
  }
 ],
 "metadata": {
  "application/vnd.databricks.v1+notebook": {
   "computePreferences": {
    "hardware": {
     "accelerator": null,
     "gpuPoolId": null,
     "memory": null
    }
   },
   "dashboards": [],
   "environmentMetadata": null,
   "inputWidgetPreferences": null,
   "language": "python",
   "notebookMetadata": {
    "mostRecentlyExecutedCommandWithImplicitDF": {
     "commandId": 8934641585917789,
     "dataframes": [
      "_sqldf"
     ]
    },
    "pythonIndentUnit": 4
   },
   "notebookName": "delta_deep_dive_old",
   "widgets": {
    "table_name": {
     "currentValue": "training.dev_giuseppe_dicrisci_raw.banking",
     "nuid": "5174529f-a7d1-4187-8fa6-aad618c6319d",
     "typedWidgetInfo": {
      "autoCreated": false,
      "defaultValue": "training.dev_giuseppe_dicrisci_raw.banking",
      "label": null,
      "name": "table_name",
      "options": {
       "widgetDisplayType": "Text",
       "validationRegex": null
      },
      "parameterDataType": "String"
     },
     "widgetInfo": {
      "widgetType": "text",
      "defaultValue": "training.dev_giuseppe_dicrisci_raw.banking",
      "label": null,
      "name": "table_name",
      "options": {
       "widgetType": "text",
       "autoCreated": null,
       "validationRegex": null
      }
     }
    }
   }
  },
  "description": null,
  "language_info": {
   "name": "python"
  },
  "save_output": false
 },
 "nbformat": 4,
 "nbformat_minor": 0
}
