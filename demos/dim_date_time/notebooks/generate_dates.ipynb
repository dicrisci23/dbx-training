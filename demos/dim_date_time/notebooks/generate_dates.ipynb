{
 "cells": [
  {
   "cell_type": "markdown",
   "metadata": {
    "application/vnd.databricks.v1+cell": {
     "cellMetadata": {},
     "inputWidgets": {},
     "nuid": "5035189a-a832-4054-89cf-ec2417039233",
     "showTitle": false,
     "tableResultSettingsMap": {},
     "title": ""
    }
   },
   "source": [
    "# Create Dim Date Dimensions"
   ]
  },
  {
   "cell_type": "code",
   "execution_count": 0,
   "metadata": {
    "application/vnd.databricks.v1+cell": {
     "cellMetadata": {},
     "inputWidgets": {},
     "nuid": "2e13ad28-f969-4d07-9652-8380caf0c941",
     "showTitle": false,
     "tableResultSettingsMap": {},
     "title": ""
    }
   },
   "outputs": [],
   "source": [
    "import requests\n",
    "import json\n",
    "from datetime import datetime, timedelta"
   ]
  },
  {
   "cell_type": "code",
   "execution_count": 0,
   "metadata": {
    "application/vnd.databricks.v1+cell": {
     "cellMetadata": {},
     "inputWidgets": {},
     "nuid": "6f8b8a34-3078-4ed2-b0ca-1c9da215207f",
     "showTitle": false,
     "tableResultSettingsMap": {},
     "title": ""
    }
   },
   "outputs": [],
   "source": [
    "# Define constants\n",
    "BASE_URL = \"https://openholidaysapi.org/PublicHolidays\"\n",
    "COUNTRY_CODE = \"CH\"\n",
    "LANGUAGE_CODE = \"DE\"\n",
    "SUBDIVISION_CODE = \"CH-ZH\"\n",
    "# EXCLUDED_NAMES = [\"Eidgenössischer Dank-, Buss- und Bettag\", \"Berchtoldstag\"]\n",
    "EXCLUDED_NAMES = []\n",
    "# MANUAL_DATES = [('2024-01-02', 'Kompensation', 'Example Kompensation')]\n",
    "MANUAL_DATES = []"
   ]
  },
  {
   "cell_type": "code",
   "execution_count": 0,
   "metadata": {
    "application/vnd.databricks.v1+cell": {
     "cellMetadata": {},
     "inputWidgets": {},
     "nuid": "04bf8336-f4e0-4d57-91d8-5ce548a1d80b",
     "showTitle": false,
     "tableResultSettingsMap": {},
     "title": ""
    }
   },
   "outputs": [],
   "source": [
    "# Function to fetch holidays from the API\n",
    "def fetch_holidays(start_date, end_date):\n",
    "    params = {\n",
    "        \"countryIsoCode\": COUNTRY_CODE,\n",
    "        \"languageIsoCode\": LANGUAGE_CODE,\n",
    "        \"validFrom\": start_date,\n",
    "        \"validTo\": end_date\n",
    "    }\n",
    "    response = requests.get(BASE_URL, params=params)\n",
    "    response.raise_for_status()\n",
    "    return response.json()\n",
    "\n",
    "# Function to filter holidays\n",
    "def filter_holidays(holidays):\n",
    "    return [\n",
    "        {\n",
    "            \"date\": holiday[\"startDate\"],\n",
    "            \"type\": \"PublicHoliday\",\n",
    "            \"name\": next((n[\"text\"] for n in holiday[\"name\"] if n[\"language\"] == LANGUAGE_CODE), None)\n",
    "        }\n",
    "        for holiday in holidays\n",
    "        if holiday[\"nationwide\"] or (\n",
    "            not holiday[\"nationwide\"] and\n",
    "            any(sub[\"code\"] == SUBDIVISION_CODE for sub in holiday.get(\"subdivisions\", [])) and\n",
    "            next((n[\"text\"] for n in holiday[\"name\"] if n[\"language\"] == LANGUAGE_CODE), None) not in EXCLUDED_NAMES\n",
    "        )\n",
    "    ]"
   ]
  },
  {
   "cell_type": "code",
   "execution_count": 0,
   "metadata": {
    "application/vnd.databricks.v1+cell": {
     "cellMetadata": {},
     "inputWidgets": {},
     "nuid": "03f87c61-68f5-4055-861f-1c04da225e2f",
     "showTitle": false,
     "tableResultSettingsMap": {},
     "title": ""
    }
   },
   "outputs": [],
   "source": [
    "def main(start_date, end_date, output_file):\n",
    "    all_holidays = []\n",
    "\n",
    "    # Convert start and end dates to datetime objects\n",
    "    start_dt = datetime.strptime(start_date, \"%Y-%m-%d\")\n",
    "    end_dt = datetime.strptime(end_date, \"%Y-%m-%d\")\n",
    "\n",
    "    # Loop through the date range in 2-year increments\n",
    "    while start_dt < end_dt:\n",
    "        current_end_dt = min(start_dt + timedelta(days=2*365), end_dt)\n",
    "        current_start_date = start_dt.strftime(\"%Y-%m-%d\")\n",
    "        current_end_date = current_end_dt.strftime(\"%Y-%m-%d\")\n",
    "\n",
    "        # Fetch holidays for the current 2-year period\n",
    "        holidays = fetch_holidays(current_start_date, current_end_date)\n",
    "        all_holidays.extend(filter_holidays(holidays))\n",
    "\n",
    "        # Move to the next 2-year period\n",
    "        start_dt = current_end_dt + timedelta(days=1)\n",
    "\n",
    "    # Append manual dates\n",
    "    # all_holidays.extend({\"date\": date, \"type\": holiday_type, \"name\": name} for date, holiday_type, name in MANUAL_DATES)\n",
    "\n",
    "    # Sort holidays by date\n",
    "    all_holidays.sort(key=lambda x: x[\"date\"])\n",
    "\n",
    "    # Save to JSON file\n",
    "    with open(output_file, 'w', encoding='utf-8') as f:\n",
    "        json.dump(all_holidays, f, ensure_ascii=False, indent=4)\n",
    "    print(f\"Holidays saved to {output_file}\")"
   ]
  },
  {
   "cell_type": "code",
   "execution_count": 0,
   "metadata": {
    "application/vnd.databricks.v1+cell": {
     "cellMetadata": {},
     "inputWidgets": {},
     "nuid": "530c916d-8e18-4a07-a705-d51f2238ab96",
     "showTitle": false,
     "tableResultSettingsMap": {},
     "title": ""
    }
   },
   "outputs": [],
   "source": [
    "if __name__ == \"__main__\":\n",
    "    start_date = \"2004-01-01\"\n",
    "    end_date = \"2030-12-31\"\n",
    "    output_file = \"dates.json\"\n",
    "    main(start_date, end_date, output_file)"
   ]
  }
 ],
 "metadata": {
  "application/vnd.databricks.v1+notebook": {
   "computePreferences": null,
   "dashboards": [],
   "environmentMetadata": null,
   "inputWidgetPreferences": null,
   "language": "python",
   "notebookMetadata": {
    "pythonIndentUnit": 4
   },
   "notebookName": "generate_dates",
   "widgets": {}
  },
  "language_info": {
   "name": "python"
  }
 },
 "nbformat": 4,
 "nbformat_minor": 0
}
